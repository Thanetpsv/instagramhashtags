{
 "cells": [
  {
   "cell_type": "code",
   "execution_count": 1,
   "metadata": {},
   "outputs": [],
   "source": [
    "from selenium import webdriver\n",
    "from selenium.webdriver.common.keys import Keys\n",
    "from selenium.webdriver.common.by import By\n",
    "from selenium.webdriver.support.ui import WebDriverWait\n",
    "from selenium.webdriver.support import expected_conditions as EC\n",
    "from bs4 import BeautifulSoup"
   ]
  },
  {
   "cell_type": "code",
   "execution_count": 1,
   "metadata": {},
   "outputs": [
    {
     "name": "stdout",
     "output_type": "stream",
     "text": [
      "Enter desired #: blacklivesmatter\n",
      "https://www.instagram.com/explore/tags/blacklivesmatter\n"
     ]
    }
   ],
   "source": [
    "base_url = 'https://www.instagram.com/explore/tags/'\n",
    "components = str(input(\"Enter desired #: \"))\n",
    "\n",
    "def make_url(base, comp):\n",
    "    url = base_url\n",
    "    for r in comp:\n",
    "        url = \"{}{}\".format(url, r)\n",
    "    return url\n",
    "desired_url = make_url(base_url, components)\n",
    "print(desired_url)"
   ]
  },
  {
   "cell_type": "code",
   "execution_count": 3,
   "metadata": {},
   "outputs": [],
   "source": [
    "PATH = \"C:\\Program Files (x86)\\chromedriver.exe\"\n",
    "driver = webdriver.Chrome(PATH)\n",
    "driver.get(desired_url)"
   ]
  },
  {
   "cell_type": "code",
   "execution_count": 4,
   "metadata": {},
   "outputs": [],
   "source": [
    "post = driver.find_element_by_xpath(\"/html/body/div[1]/section/main/header/div[2]/div[1]/div[2]/span/span\").text\n",
    "\n",
    "try:\n",
    "    related = driver.find_element_by_xpath(\"/html/body/div[1]/section/main/header/div[2]/div[2]/span/span[2]\")\n",
    "    related_list = related.text.split(\"#\")[1:]\n",
    "    related_list = [components] + related_list\n",
    "    driver.quit()\n",
    "except:\n",
    "    print(\"No related hashtags\")\n",
    "    print(\"{} posts {}\".format(post, components))\n",
    "    driver.quit()\n",
    "    quit()"
   ]
  },
  {
   "cell_type": "code",
   "execution_count": 5,
   "metadata": {},
   "outputs": [],
   "source": [
    "from datetime import datetime\n",
    "from datetime import date\n",
    "\n",
    "now = datetime.now()\n",
    "\n",
    "current_time = now.strftime(\"%H:%M:%S\")\n",
    "today = date.today()"
   ]
  },
  {
   "cell_type": "code",
   "execution_count": 6,
   "metadata": {},
   "outputs": [],
   "source": [
    "url_list = []\n",
    "for hasht in related_list:\n",
    "    url_list.append(make_url(base_url, hasht))\n",
    "\n",
    "post_list = []\n",
    "for sub_url in url_list:\n",
    "    PATH = \"C:\\Program Files (x86)\\chromedriver.exe\"\n",
    "    driver = webdriver.Chrome(PATH)\n",
    "    driver.get(sub_url)\n",
    "    post_list.append(driver.find_element_by_xpath(\"/html/body/div[1]/section/main/header/div[2]/div[1]/div[2]/span/span\").text)\n",
    "    driver.quit()"
   ]
  },
  {
   "cell_type": "code",
   "execution_count": 7,
   "metadata": {},
   "outputs": [],
   "source": [
    "post_list_int = []\n",
    "for num in post_list:\n",
    "    post_list_int.append(int(num.replace(',', '')))\n",
    "\n",
    "import pandas as pd\n",
    "concat = {'Hashtags':related_list,'Number of posts':post_list_int}\n",
    "df = pd.DataFrame(concat)\n",
    "df['date(y-m-d)'] = today\n",
    "df['time(H-M-S)'] = current_time\n",
    "df = df.sort_values(by='Number of posts', ascending=False)"
   ]
  },
  {
   "cell_type": "code",
   "execution_count": 9,
   "metadata": {},
   "outputs": [
    {
     "data": {
      "text/html": [
       "<div>\n",
       "<style scoped>\n",
       "    .dataframe tbody tr th:only-of-type {\n",
       "        vertical-align: middle;\n",
       "    }\n",
       "\n",
       "    .dataframe tbody tr th {\n",
       "        vertical-align: top;\n",
       "    }\n",
       "\n",
       "    .dataframe thead th {\n",
       "        text-align: right;\n",
       "    }\n",
       "</style>\n",
       "<table border=\"1\" class=\"dataframe\">\n",
       "  <thead>\n",
       "    <tr style=\"text-align: right;\">\n",
       "      <th></th>\n",
       "      <th>Hashtags</th>\n",
       "      <th>Number of posts</th>\n",
       "      <th>date(y-m-d)</th>\n",
       "      <th>time(H-M-S)</th>\n",
       "    </tr>\n",
       "  </thead>\n",
       "  <tbody>\n",
       "    <tr>\n",
       "      <th>0</th>\n",
       "      <td>food</td>\n",
       "      <td>391853198</td>\n",
       "      <td>2020-06-14</td>\n",
       "      <td>22:42:44</td>\n",
       "    </tr>\n",
       "    <tr>\n",
       "      <th>6</th>\n",
       "      <td>instafood</td>\n",
       "      <td>172234010</td>\n",
       "      <td>2020-06-14</td>\n",
       "      <td>22:42:44</td>\n",
       "    </tr>\n",
       "    <tr>\n",
       "      <th>3</th>\n",
       "      <td>delicious</td>\n",
       "      <td>111182043</td>\n",
       "      <td>2020-06-14</td>\n",
       "      <td>22:42:44</td>\n",
       "    </tr>\n",
       "    <tr>\n",
       "      <th>8</th>\n",
       "      <td>instacool</td>\n",
       "      <td>110177420</td>\n",
       "      <td>2020-06-14</td>\n",
       "      <td>22:42:44</td>\n",
       "    </tr>\n",
       "    <tr>\n",
       "      <th>7</th>\n",
       "      <td>foodstagram</td>\n",
       "      <td>69563355</td>\n",
       "      <td>2020-06-14</td>\n",
       "      <td>22:42:44</td>\n",
       "    </tr>\n",
       "    <tr>\n",
       "      <th>4</th>\n",
       "      <td>foodgasm</td>\n",
       "      <td>53633756</td>\n",
       "      <td>2020-06-14</td>\n",
       "      <td>22:42:44</td>\n",
       "    </tr>\n",
       "    <tr>\n",
       "      <th>1</th>\n",
       "      <td>foodpics</td>\n",
       "      <td>36981521</td>\n",
       "      <td>2020-06-14</td>\n",
       "      <td>22:42:44</td>\n",
       "    </tr>\n",
       "    <tr>\n",
       "      <th>5</th>\n",
       "      <td>foodpic</td>\n",
       "      <td>33693482</td>\n",
       "      <td>2020-06-14</td>\n",
       "      <td>22:42:44</td>\n",
       "    </tr>\n",
       "    <tr>\n",
       "      <th>2</th>\n",
       "      <td>foodoftheday</td>\n",
       "      <td>6862173</td>\n",
       "      <td>2020-06-14</td>\n",
       "      <td>22:42:44</td>\n",
       "    </tr>\n",
       "    <tr>\n",
       "      <th>10</th>\n",
       "      <td>foodiesofinstagram</td>\n",
       "      <td>5702485</td>\n",
       "      <td>2020-06-14</td>\n",
       "      <td>22:42:44</td>\n",
       "    </tr>\n",
       "    <tr>\n",
       "      <th>9</th>\n",
       "      <td>eats</td>\n",
       "      <td>4303104</td>\n",
       "      <td>2020-06-14</td>\n",
       "      <td>22:42:44</td>\n",
       "    </tr>\n",
       "  </tbody>\n",
       "</table>\n",
       "</div>"
      ],
      "text/plain": [
       "              Hashtags  Number of posts date(y-m-d) time(H-M-S)\n",
       "0                 food        391853198  2020-06-14    22:42:44\n",
       "6            instafood        172234010  2020-06-14    22:42:44\n",
       "3            delicious        111182043  2020-06-14    22:42:44\n",
       "8            instacool        110177420  2020-06-14    22:42:44\n",
       "7          foodstagram         69563355  2020-06-14    22:42:44\n",
       "4             foodgasm         53633756  2020-06-14    22:42:44\n",
       "1             foodpics         36981521  2020-06-14    22:42:44\n",
       "5              foodpic         33693482  2020-06-14    22:42:44\n",
       "2         foodoftheday          6862173  2020-06-14    22:42:44\n",
       "10  foodiesofinstagram          5702485  2020-06-14    22:42:44\n",
       "9                 eats          4303104  2020-06-14    22:42:44"
      ]
     },
     "execution_count": 9,
     "metadata": {},
     "output_type": "execute_result"
    }
   ],
   "source": [
    "today_list = str(today).replace('-', \" \").split()\n",
    "current_time_list = str(current_time).replace(\":\", \" \").split()\n",
    "\n",
    "h = current_time_list[0]\n",
    "mi = current_time_list[1]\n",
    "s = current_time_list[2]\n",
    "\n",
    "y = today_list[0]\n",
    "m = today_list[1]\n",
    "d = today_list[2]\n",
    "\n",
    "filename = (\"{} d{} m{} y{} h{} mi{}\".format(components, d , m, y, h, mi))\n",
    "df.to_csv('D:\\Coding\\FLC project\\IG_trend_csv\\{}.csv'.format(filename), index = False)\n",
    "df"
   ]
  },
  {
   "cell_type": "code",
   "execution_count": null,
   "metadata": {},
   "outputs": [],
   "source": []
  }
 ],
 "metadata": {
  "kernelspec": {
   "display_name": "Python 3",
   "language": "python",
   "name": "python3"
  },
  "language_info": {
   "codemirror_mode": {
    "name": "ipython",
    "version": 3
   },
   "file_extension": ".py",
   "mimetype": "text/x-python",
   "name": "python",
   "nbconvert_exporter": "python",
   "pygments_lexer": "ipython3",
   "version": "3.8.2"
  }
 },
 "nbformat": 4,
 "nbformat_minor": 4
}
